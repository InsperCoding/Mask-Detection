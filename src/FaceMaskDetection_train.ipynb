{
 "cells": [
  {
   "cell_type": "code",
   "execution_count": 1,
   "id": "522bc854",
   "metadata": {},
   "outputs": [],
   "source": [
    "from keras.optimizers import RMSprop\n",
    "from keras.preprocessing.image import ImageDataGenerator\n",
    "import cv2\n",
    "from keras.models import Sequential\n",
    "from keras.layers import Conv2D, Input, ZeroPadding2D, BatchNormalization, Activation, MaxPooling2D, Flatten, Dense,Dropout\n",
    "from keras.models import Model, load_model\n",
    "from keras.callbacks import TensorBoard, ModelCheckpoint\n",
    "from sklearn.model_selection import train_test_split\n",
    "from sklearn.metrics import f1_score\n",
    "from sklearn.utils import shuffle\n",
    "import imutils\n",
    "import numpy as np"
   ]
  },
  {
   "cell_type": "code",
   "execution_count": 2,
   "id": "05d995e4",
   "metadata": {},
   "outputs": [],
   "source": [
    "model = Sequential([\n",
    "    Conv2D(100, (3, 3), activation = 'relu', input_shape = (150, 150, 3)),\n",
    "    MaxPooling2D(2, 2),\n",
    "    \n",
    "    Conv2D(100, (3, 3), activation = 'relu'),\n",
    "    MaxPooling2D(2, 2),\n",
    "    \n",
    "    Flatten(),\n",
    "    Dropout(0.5),\n",
    "    Dense(50, activation = 'relu'),\n",
    "    Dense(2, activation = 'softmax')\n",
    "])\n",
    "model.compile(optimizer = 'adam', loss = 'binary_crossentropy', metrics = ['acc'])"
   ]
  },
  {
   "cell_type": "code",
   "execution_count": 3,
   "id": "7d996eee",
   "metadata": {},
   "outputs": [
    {
     "name": "stdout",
     "output_type": "stream",
     "text": [
      "Found 1315 images belonging to 2 classes.\n",
      "Found 194 images belonging to 2 classes.\n"
     ]
    }
   ],
   "source": [
    "TRAINING_DIR = \"face-mask-dataset/Dataset/train\"\n",
    "train_datagen = ImageDataGenerator(rescale = 1.0/255,\n",
    "                                   rotation_range = 40,\n",
    "                                   width_shift_range = 0.2,\n",
    "                                   height_shift_range = 0.2,\n",
    "                                   shear_range = 0.2,\n",
    "                                   zoom_range = 0.2,\n",
    "                                   horizontal_flip = True,\n",
    "                                   fill_mode = 'nearest')\n",
    "\n",
    "train_generator = train_datagen.flow_from_directory(TRAINING_DIR, \n",
    "                                                    batch_size = 10, \n",
    "                                                    target_size = (150, 150))\n",
    "\n",
    "VALIDATION_DIR = \"face-mask-dataset/Dataset/test\"\n",
    "validation_datagen = ImageDataGenerator(rescale = 1.0/255)\n",
    "validation_generator = validation_datagen.flow_from_directory(VALIDATION_DIR, \n",
    "                                                         batch_size = 10, \n",
    "                                                         target_size = (150, 150))"
   ]
  },
  {
   "cell_type": "code",
   "execution_count": 4,
   "id": "112cebb8",
   "metadata": {},
   "outputs": [],
   "source": [
    "checkpoint = ModelCheckpoint('model2-{epoch:03d}.model',\n",
    "                             monitor = 'val_loss',\n",
    "                             verbose = 0,\n",
    "                             save_best_only = True,\n",
    "                             mode = 'auto')"
   ]
  },
  {
   "cell_type": "code",
   "execution_count": 5,
   "id": "4a2ca2dc",
   "metadata": {},
   "outputs": [
    {
     "name": "stderr",
     "output_type": "stream",
     "text": [
      "/home/nicolas/.local/lib/python3.8/site-packages/tensorflow/python/keras/engine/training.py:1844: UserWarning: `Model.fit_generator` is deprecated and will be removed in a future version. Please use `Model.fit`, which supports generators.\n",
      "  warnings.warn('`Model.fit_generator` is deprecated and '\n"
     ]
    },
    {
     "name": "stdout",
     "output_type": "stream",
     "text": [
      "Epoch 1/10\n",
      "132/132 [==============================] - 166s 1s/step - loss: 0.8324 - acc: 0.5984 - val_loss: 0.4574 - val_acc: 0.7474\n",
      "INFO:tensorflow:Assets written to: model2-001.model/assets\n",
      "Epoch 2/10\n",
      "132/132 [==============================] - 165s 1s/step - loss: 0.4253 - acc: 0.8211 - val_loss: 0.1992 - val_acc: 0.9021\n",
      "INFO:tensorflow:Assets written to: model2-002.model/assets\n",
      "Epoch 3/10\n",
      "132/132 [==============================] - 164s 1s/step - loss: 0.4043 - acc: 0.8430 - val_loss: 0.1016 - val_acc: 0.9588\n",
      "INFO:tensorflow:Assets written to: model2-003.model/assets\n",
      "Epoch 4/10\n",
      "132/132 [==============================] - 169s 1s/step - loss: 0.2272 - acc: 0.9178 - val_loss: 0.0810 - val_acc: 0.9742\n",
      "INFO:tensorflow:Assets written to: model2-004.model/assets\n",
      "Epoch 5/10\n",
      "132/132 [==============================] - 188s 1s/step - loss: 0.2358 - acc: 0.9073 - val_loss: 0.0717 - val_acc: 0.9691\n",
      "INFO:tensorflow:Assets written to: model2-005.model/assets\n",
      "Epoch 6/10\n",
      "132/132 [==============================] - 165s 1s/step - loss: 0.2216 - acc: 0.9082 - val_loss: 0.1512 - val_acc: 0.9175\n",
      "Epoch 7/10\n",
      "132/132 [==============================] - 167s 1s/step - loss: 0.1829 - acc: 0.9324 - val_loss: 0.0548 - val_acc: 0.9794\n",
      "INFO:tensorflow:Assets written to: model2-007.model/assets\n",
      "Epoch 8/10\n",
      "132/132 [==============================] - 164s 1s/step - loss: 0.1754 - acc: 0.9263 - val_loss: 0.0535 - val_acc: 0.9639\n",
      "INFO:tensorflow:Assets written to: model2-008.model/assets\n",
      "Epoch 9/10\n",
      "132/132 [==============================] - 163s 1s/step - loss: 0.1671 - acc: 0.9382 - val_loss: 0.1551 - val_acc: 0.9330\n",
      "Epoch 10/10\n",
      "132/132 [==============================] - 164s 1s/step - loss: 0.2197 - acc: 0.9230 - val_loss: 0.0349 - val_acc: 0.9897\n",
      "INFO:tensorflow:Assets written to: model2-010.model/assets\n"
     ]
    }
   ],
   "source": [
    "history = model.fit_generator(train_generator,\n",
    "                              epochs = 10,\n",
    "                              validation_data = validation_generator,\n",
    "                              callbacks = [checkpoint])"
   ]
  },
  {
   "cell_type": "code",
   "execution_count": null,
   "id": "6cb42590",
   "metadata": {},
   "outputs": [],
   "source": []
  }
 ],
 "metadata": {
  "kernelspec": {
   "display_name": "Python 3",
   "language": "python",
   "name": "python3"
  },
  "language_info": {
   "codemirror_mode": {
    "name": "ipython",
    "version": 3
   },
   "file_extension": ".py",
   "mimetype": "text/x-python",
   "name": "python",
   "nbconvert_exporter": "python",
   "pygments_lexer": "ipython3",
   "version": "3.8.5"
  }
 },
 "nbformat": 4,
 "nbformat_minor": 5
}
